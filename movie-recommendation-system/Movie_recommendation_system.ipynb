{
 "cells": [
  {
   "cell_type": "markdown",
   "metadata": {
    "id": "vH-A94ggJ1_y"
   },
   "source": [
    "# Loading the dataset"
   ]
  },
  {
   "cell_type": "code",
   "execution_count": null,
   "metadata": {
    "id": "S5S7TDWWNkCW"
   },
   "outputs": [],
   "source": [
    "import pandas as pd\n",
    "\n",
    "# Used the MovieLens 20M Dataset\n",
    "# https://grouplens.org/datasets/movielens/20m/\n",
    "path = ''\n",
    "ratings = pd.read_csv(path + 'ratings.csv')\n",
    "movies = pd.read_csv(path + 'movies.csv')"
   ]
  },
  {
   "cell_type": "code",
   "execution_count": 2,
   "metadata": {
    "colab": {
     "base_uri": "https://localhost:8080/",
     "height": 206
    },
    "executionInfo": {
     "elapsed": 96,
     "status": "ok",
     "timestamp": 1742470513319,
     "user": {
      "displayName": "Madhureema Das",
      "userId": "02243178770954173443"
     },
     "user_tz": -330
    },
    "id": "n7UmsOdNRHn8",
    "outputId": "8d45df21-4fa9-4845-876f-a0ce905a8aef"
   },
   "outputs": [
    {
     "data": {
      "text/html": [
       "<div>\n",
       "<style scoped>\n",
       "    .dataframe tbody tr th:only-of-type {\n",
       "        vertical-align: middle;\n",
       "    }\n",
       "\n",
       "    .dataframe tbody tr th {\n",
       "        vertical-align: top;\n",
       "    }\n",
       "\n",
       "    .dataframe thead th {\n",
       "        text-align: right;\n",
       "    }\n",
       "</style>\n",
       "<table border=\"1\" class=\"dataframe\">\n",
       "  <thead>\n",
       "    <tr style=\"text-align: right;\">\n",
       "      <th></th>\n",
       "      <th>userId</th>\n",
       "      <th>movieId</th>\n",
       "      <th>rating</th>\n",
       "      <th>timestamp</th>\n",
       "    </tr>\n",
       "  </thead>\n",
       "  <tbody>\n",
       "    <tr>\n",
       "      <th>0</th>\n",
       "      <td>1</td>\n",
       "      <td>2</td>\n",
       "      <td>3.5</td>\n",
       "      <td>1112486027</td>\n",
       "    </tr>\n",
       "    <tr>\n",
       "      <th>1</th>\n",
       "      <td>1</td>\n",
       "      <td>29</td>\n",
       "      <td>3.5</td>\n",
       "      <td>1112484676</td>\n",
       "    </tr>\n",
       "    <tr>\n",
       "      <th>2</th>\n",
       "      <td>1</td>\n",
       "      <td>32</td>\n",
       "      <td>3.5</td>\n",
       "      <td>1112484819</td>\n",
       "    </tr>\n",
       "    <tr>\n",
       "      <th>3</th>\n",
       "      <td>1</td>\n",
       "      <td>47</td>\n",
       "      <td>3.5</td>\n",
       "      <td>1112484727</td>\n",
       "    </tr>\n",
       "    <tr>\n",
       "      <th>4</th>\n",
       "      <td>1</td>\n",
       "      <td>50</td>\n",
       "      <td>3.5</td>\n",
       "      <td>1112484580</td>\n",
       "    </tr>\n",
       "  </tbody>\n",
       "</table>\n",
       "</div>"
      ],
      "text/plain": [
       "   userId  movieId  rating   timestamp\n",
       "0       1        2     3.5  1112486027\n",
       "1       1       29     3.5  1112484676\n",
       "2       1       32     3.5  1112484819\n",
       "3       1       47     3.5  1112484727\n",
       "4       1       50     3.5  1112484580"
      ]
     },
     "execution_count": 2,
     "metadata": {},
     "output_type": "execute_result"
    }
   ],
   "source": [
    "ratings.head()"
   ]
  },
  {
   "cell_type": "code",
   "execution_count": 3,
   "metadata": {
    "colab": {
     "base_uri": "https://localhost:8080/",
     "height": 206
    },
    "executionInfo": {
     "elapsed": 116,
     "status": "ok",
     "timestamp": 1742470514373,
     "user": {
      "displayName": "Madhureema Das",
      "userId": "02243178770954173443"
     },
     "user_tz": -330
    },
    "id": "fT2VfiQlRNTe",
    "outputId": "4182f44b-1b27-4307-f9af-6158e91679b5"
   },
   "outputs": [
    {
     "data": {
      "text/html": [
       "<div>\n",
       "<style scoped>\n",
       "    .dataframe tbody tr th:only-of-type {\n",
       "        vertical-align: middle;\n",
       "    }\n",
       "\n",
       "    .dataframe tbody tr th {\n",
       "        vertical-align: top;\n",
       "    }\n",
       "\n",
       "    .dataframe thead th {\n",
       "        text-align: right;\n",
       "    }\n",
       "</style>\n",
       "<table border=\"1\" class=\"dataframe\">\n",
       "  <thead>\n",
       "    <tr style=\"text-align: right;\">\n",
       "      <th></th>\n",
       "      <th>movieId</th>\n",
       "      <th>title</th>\n",
       "      <th>genres</th>\n",
       "    </tr>\n",
       "  </thead>\n",
       "  <tbody>\n",
       "    <tr>\n",
       "      <th>0</th>\n",
       "      <td>1</td>\n",
       "      <td>Toy Story (1995)</td>\n",
       "      <td>Adventure|Animation|Children|Comedy|Fantasy</td>\n",
       "    </tr>\n",
       "    <tr>\n",
       "      <th>1</th>\n",
       "      <td>2</td>\n",
       "      <td>Jumanji (1995)</td>\n",
       "      <td>Adventure|Children|Fantasy</td>\n",
       "    </tr>\n",
       "    <tr>\n",
       "      <th>2</th>\n",
       "      <td>3</td>\n",
       "      <td>Grumpier Old Men (1995)</td>\n",
       "      <td>Comedy|Romance</td>\n",
       "    </tr>\n",
       "    <tr>\n",
       "      <th>3</th>\n",
       "      <td>4</td>\n",
       "      <td>Waiting to Exhale (1995)</td>\n",
       "      <td>Comedy|Drama|Romance</td>\n",
       "    </tr>\n",
       "    <tr>\n",
       "      <th>4</th>\n",
       "      <td>5</td>\n",
       "      <td>Father of the Bride Part II (1995)</td>\n",
       "      <td>Comedy</td>\n",
       "    </tr>\n",
       "  </tbody>\n",
       "</table>\n",
       "</div>"
      ],
      "text/plain": [
       "   movieId                               title  \\\n",
       "0        1                    Toy Story (1995)   \n",
       "1        2                      Jumanji (1995)   \n",
       "2        3             Grumpier Old Men (1995)   \n",
       "3        4            Waiting to Exhale (1995)   \n",
       "4        5  Father of the Bride Part II (1995)   \n",
       "\n",
       "                                        genres  \n",
       "0  Adventure|Animation|Children|Comedy|Fantasy  \n",
       "1                   Adventure|Children|Fantasy  \n",
       "2                               Comedy|Romance  \n",
       "3                         Comedy|Drama|Romance  \n",
       "4                                       Comedy  "
      ]
     },
     "execution_count": 3,
     "metadata": {},
     "output_type": "execute_result"
    }
   ],
   "source": [
    "movies.head()"
   ]
  },
  {
   "cell_type": "code",
   "execution_count": 4,
   "metadata": {
    "colab": {
     "base_uri": "https://localhost:8080/"
    },
    "executionInfo": {
     "elapsed": 18,
     "status": "ok",
     "timestamp": 1742470515342,
     "user": {
      "displayName": "Madhureema Das",
      "userId": "02243178770954173443"
     },
     "user_tz": -330
    },
    "id": "5AALfTIrq9Ps",
    "outputId": "38e26bcd-640b-453c-a086-bcf393f33417"
   },
   "outputs": [
    {
     "data": {
      "text/plain": [
       "Index(['userId', 'movieId', 'rating', 'timestamp'], dtype='object')"
      ]
     },
     "execution_count": 4,
     "metadata": {},
     "output_type": "execute_result"
    }
   ],
   "source": [
    "ratings.columns"
   ]
  },
  {
   "cell_type": "code",
   "execution_count": 5,
   "metadata": {
    "colab": {
     "base_uri": "https://localhost:8080/"
    },
    "executionInfo": {
     "elapsed": 20,
     "status": "ok",
     "timestamp": 1742470516354,
     "user": {
      "displayName": "Madhureema Das",
      "userId": "02243178770954173443"
     },
     "user_tz": -330
    },
    "id": "HY4ZD0bDreB4",
    "outputId": "56ab81ab-60ae-4d7f-88e5-f97a77d1167e"
   },
   "outputs": [
    {
     "data": {
      "text/plain": [
       "Index(['movieId', 'title', 'genres'], dtype='object')"
      ]
     },
     "execution_count": 5,
     "metadata": {},
     "output_type": "execute_result"
    }
   ],
   "source": [
    "movies.columns"
   ]
  },
  {
   "cell_type": "code",
   "execution_count": 6,
   "metadata": {
    "colab": {
     "base_uri": "https://localhost:8080/"
    },
    "executionInfo": {
     "elapsed": 19,
     "status": "ok",
     "timestamp": 1742470517440,
     "user": {
      "displayName": "Madhureema Das",
      "userId": "02243178770954173443"
     },
     "user_tz": -330
    },
    "id": "bRMDf9uEriaF",
    "outputId": "780ba73c-d80a-408e-821e-cf437eb6af4d"
   },
   "outputs": [
    {
     "name": "stdout",
     "output_type": "stream",
     "text": [
      "<class 'pandas.core.frame.DataFrame'>\n",
      "RangeIndex: 20000263 entries, 0 to 20000262\n",
      "Data columns (total 4 columns):\n",
      " #   Column     Dtype  \n",
      "---  ------     -----  \n",
      " 0   userId     int64  \n",
      " 1   movieId    int64  \n",
      " 2   rating     float64\n",
      " 3   timestamp  int64  \n",
      "dtypes: float64(1), int64(3)\n",
      "memory usage: 610.4 MB\n"
     ]
    }
   ],
   "source": [
    "ratings.info()"
   ]
  },
  {
   "cell_type": "code",
   "execution_count": 7,
   "metadata": {
    "colab": {
     "base_uri": "https://localhost:8080/"
    },
    "executionInfo": {
     "elapsed": 12,
     "status": "ok",
     "timestamp": 1742470518491,
     "user": {
      "displayName": "Madhureema Das",
      "userId": "02243178770954173443"
     },
     "user_tz": -330
    },
    "id": "LfaNJ10zrj0X",
    "outputId": "b0066e34-5f49-4ce9-f06a-5755d53a4d81"
   },
   "outputs": [
    {
     "name": "stdout",
     "output_type": "stream",
     "text": [
      "<class 'pandas.core.frame.DataFrame'>\n",
      "RangeIndex: 27278 entries, 0 to 27277\n",
      "Data columns (total 3 columns):\n",
      " #   Column   Non-Null Count  Dtype \n",
      "---  ------   --------------  ----- \n",
      " 0   movieId  27278 non-null  int64 \n",
      " 1   title    27278 non-null  object\n",
      " 2   genres   27278 non-null  object\n",
      "dtypes: int64(1), object(2)\n",
      "memory usage: 639.5+ KB\n"
     ]
    }
   ],
   "source": [
    "movies.info()"
   ]
  },
  {
   "cell_type": "markdown",
   "metadata": {
    "id": "3i2G8zFqPatt"
   },
   "source": [
    "# Data Preprocessing"
   ]
  },
  {
   "cell_type": "code",
   "execution_count": 8,
   "metadata": {
    "colab": {
     "base_uri": "https://localhost:8080/"
    },
    "executionInfo": {
     "elapsed": 124,
     "status": "ok",
     "timestamp": 1742470524523,
     "user": {
      "displayName": "Madhureema Das",
      "userId": "02243178770954173443"
     },
     "user_tz": -330
    },
    "id": "gr-zhP9qQamc",
    "outputId": "3a64bece-74fc-4494-b142-cf2d790955dd"
   },
   "outputs": [
    {
     "name": "stdout",
     "output_type": "stream",
     "text": [
      "ratings.csv\n",
      "userId       0\n",
      "movieId      0\n",
      "rating       0\n",
      "timestamp    0\n",
      "dtype: int64\n",
      "\n",
      "movies.csv\n",
      "movieId    0\n",
      "title      0\n",
      "genres     0\n",
      "dtype: int64\n"
     ]
    }
   ],
   "source": [
    "# Handle Missing Values\n",
    "# Check for missing values in the ratings dataset\n",
    "print(\"ratings.csv\")\n",
    "print(ratings.isnull().sum())\n",
    "\n",
    "print(\"\\nmovies.csv\")\n",
    "print(movies.isnull().sum())"
   ]
  },
  {
   "cell_type": "code",
   "execution_count": 9,
   "metadata": {
    "colab": {
     "base_uri": "https://localhost:8080/"
    },
    "executionInfo": {
     "elapsed": 10370,
     "status": "ok",
     "timestamp": 1742470535967,
     "user": {
      "displayName": "Madhureema Das",
      "userId": "02243178770954173443"
     },
     "user_tz": -330
    },
    "id": "3RQD-CaEQwAc",
    "outputId": "5fe6cb55-5b66-4003-9c97-0210428e97f9"
   },
   "outputs": [
    {
     "name": "stdout",
     "output_type": "stream",
     "text": [
      "Before removing duplicates: (20000263, 4)\n",
      "After removing duplicates: (20000263, 4)\n"
     ]
    }
   ],
   "source": [
    "# Remove Duplicates\n",
    "# Check for duplicates in the ratings dataset\n",
    "print(\"Before removing duplicates:\", ratings.shape)\n",
    "ratings.drop_duplicates(inplace=True)\n",
    "print(\"After removing duplicates:\", ratings.shape)"
   ]
  },
  {
   "cell_type": "code",
   "execution_count": 10,
   "metadata": {
    "colab": {
     "base_uri": "https://localhost:8080/"
    },
    "executionInfo": {
     "elapsed": 13,
     "status": "ok",
     "timestamp": 1742470537977,
     "user": {
      "displayName": "Madhureema Das",
      "userId": "02243178770954173443"
     },
     "user_tz": -330
    },
    "id": "rm858odPQ1eN",
    "outputId": "6ac414d2-7af2-4dba-f3be-963c380723f4"
   },
   "outputs": [
    {
     "name": "stdout",
     "output_type": "stream",
     "text": [
      "Before removing duplicates: (27278, 3)\n",
      "After removing duplicates: (27278, 3)\n"
     ]
    }
   ],
   "source": [
    "# Check for duplicates in the movies dataset\n",
    "print(\"Before removing duplicates:\", movies.shape)\n",
    "movies.drop_duplicates(inplace=True)\n",
    "print(\"After removing duplicates:\", movies.shape)"
   ]
  },
  {
   "cell_type": "code",
   "execution_count": 11,
   "metadata": {
    "colab": {
     "base_uri": "https://localhost:8080/"
    },
    "executionInfo": {
     "elapsed": 124,
     "status": "ok",
     "timestamp": 1742470539560,
     "user": {
      "displayName": "Madhureema Das",
      "userId": "02243178770954173443"
     },
     "user_tz": -330
    },
    "id": "S4WR4zHERBGc",
    "outputId": "1e939b7f-5114-4659-a60a-cd5646978dfb"
   },
   "outputs": [
    {
     "name": "stdout",
     "output_type": "stream",
     "text": [
      "Outliers in ratings:\n",
      " Empty DataFrame\n",
      "Columns: [userId, movieId, rating, timestamp]\n",
      "Index: []\n"
     ]
    }
   ],
   "source": [
    "# Handle Outliers in Ratings\n",
    "# Ratings are between 0 and 5, so check for values outside this range\n",
    "outliers = ratings[(ratings['rating'] < 0) | (ratings['rating'] > 5)]\n",
    "print(\"Outliers in ratings:\\n\", outliers)"
   ]
  },
  {
   "cell_type": "code",
   "execution_count": 12,
   "metadata": {
    "colab": {
     "base_uri": "https://localhost:8080/"
    },
    "executionInfo": {
     "elapsed": 731,
     "status": "ok",
     "timestamp": 1742470541460,
     "user": {
      "displayName": "Madhureema Das",
      "userId": "02243178770954173443"
     },
     "user_tz": -330
    },
    "id": "VYhDt3vnRRmN",
    "outputId": "464e9180-4319-49b2-e30f-2845eceb91f6"
   },
   "outputs": [
    {
     "name": "stdout",
     "output_type": "stream",
     "text": [
      "After cleaning, ratings dataset size: (20000263, 4)\n",
      "After cleaning, movies dataset size: (27278, 3)\n"
     ]
    }
   ],
   "source": [
    "# Correcting Errors (Check if user or movie IDs are invalid)\n",
    "# If there are invalid user IDs or movie IDs, they would not exist in the ratings and movies datasets respectively\n",
    "valid_user_ids = ratings['userId'].isin(ratings['userId'].unique())\n",
    "valid_movie_ids = ratings['movieId'].isin(movies['movieId'].unique())\n",
    "\n",
    "# Filter out invalid user IDs and movie IDs\n",
    "ratings = ratings[valid_user_ids & valid_movie_ids]\n",
    "\n",
    "# Verify the data cleaning\n",
    "print(f\"After cleaning, ratings dataset size: {ratings.shape}\")\n",
    "print(f\"After cleaning, movies dataset size: {movies.shape}\")"
   ]
  },
  {
   "cell_type": "markdown",
   "metadata": {},
   "source": [
    "# Exploratary Data Anaysis(EDA)"
   ]
  },
  {
   "cell_type": "code",
   "execution_count": 36,
   "metadata": {},
   "outputs": [
    {
     "data": {
      "image/png": "[encoded data removed]",
      "text/plain": [
       "<Figure size 800x500 with 1 Axes>"
      ]
     },
     "metadata": {},
     "output_type": "display_data"
    }
   ],
   "source": [
    "# Distribution of Ratings\n",
    "plt.figure(figsize=(8, 5))\n",
    "sns.histplot(ratings[\"rating\"], bins=10, kde=True, color=\"blue\")\n",
    "plt.xlabel(\"Rating\")\n",
    "plt.ylabel(\"Count\")\n",
    "plt.title(\"Distribution of Movie Ratings\")\n",
    "plt.show()"
   ]
  },
  {
   "cell_type": "code",
   "execution_count": 37,
   "metadata": {},
   "outputs": [
    {
     "name": "stdout",
     "output_type": "stream",
     "text": [
      "\n",
      "Top 10 Most Rated Movies:\n",
      "      movieId                                      title  \\\n",
      "108       110                          Braveheart (1995)   \n",
      "257       260  Star Wars: Episode IV - A New Hope (1977)   \n",
      "293       296                        Pulp Fiction (1994)   \n",
      "315       318           Shawshank Redemption, The (1994)   \n",
      "352       356                        Forrest Gump (1994)   \n",
      "476       480                       Jurassic Park (1993)   \n",
      "523       527                    Schindler's List (1993)   \n",
      "583       589          Terminator 2: Judgment Day (1991)   \n",
      "587       593           Silence of the Lambs, The (1991)   \n",
      "2486     2571                         Matrix, The (1999)   \n",
      "\n",
      "                                genres  \n",
      "108                   Action|Drama|War  \n",
      "257            Action|Adventure|Sci-Fi  \n",
      "293        Comedy|Crime|Drama|Thriller  \n",
      "315                        Crime|Drama  \n",
      "352           Comedy|Drama|Romance|War  \n",
      "476   Action|Adventure|Sci-Fi|Thriller  \n",
      "523                          Drama|War  \n",
      "583                      Action|Sci-Fi  \n",
      "587              Crime|Horror|Thriller  \n",
      "2486            Action|Sci-Fi|Thriller  \n"
     ]
    }
   ],
   "source": [
    "# Top 10 most rated movies\n",
    "top_movies = ratings[\"movieId\"].value_counts().head(10).index\n",
    "most_rated_movies = movies[movies[\"movieId\"].isin(top_movies)]\n",
    "print(\"\\nTop 10 Most Rated Movies:\")\n",
    "print(most_rated_movies)\n"
   ]
  },
  {
   "cell_type": "code",
   "execution_count": 38,
   "metadata": {},
   "outputs": [
    {
     "name": "stdout",
     "output_type": "stream",
     "text": [
      "\n",
      "Top 10 Highest Rated Movies:\n",
      "       movieId  rating                                              title  \\\n",
      "12005    54326     5.0                                  Sierra, La (2005)   \n",
      "9005     26718     5.0      Life On A String (Bian chang Bian Zou) (1991)   \n",
      "21842   105846     5.0                               Only Daughter (2013)   \n",
      "15994    81117     5.0                             Moth, The (Cma) (1980)   \n",
      "26655   130996     5.0                         The Beautiful Story (1992)   \n",
      "21840   105841     5.0                                      B-Side (2013)   \n",
      "26411   129478     5.0                          A Blank on the Map (1971)   \n",
      "26423   129530     5.0                           Slingshot Hip Hop (2008)   \n",
      "26421   129526     5.0                           The Color of Milk (2004)   \n",
      "21310   103871     5.0  Consuming Kids: The Commercialization of Child...   \n",
      "\n",
      "                                genres  \n",
      "12005                      Documentary  \n",
      "9005   Adventure|Drama|Fantasy|Musical  \n",
      "21842                            Drama  \n",
      "15994                            Drama  \n",
      "26655          Adventure|Drama|Fantasy  \n",
      "21840                   Comedy|Romance  \n",
      "26411                      Documentary  \n",
      "26423               (no genres listed)  \n",
      "26421                     Comedy|Drama  \n",
      "21310                      Documentary  \n"
     ]
    }
   ],
   "source": [
    "# Average rating per movie\n",
    "avg_ratings = ratings.groupby(\"movieId\")[\"rating\"].mean().reset_index()\n",
    "avg_ratings = avg_ratings.merge(movies, on=\"movieId\").sort_values(by=\"rating\", ascending=False)\n",
    "print(\"\\nTop 10 Highest Rated Movies:\")\n",
    "print(avg_ratings.head(10))"
   ]
  },
  {
   "cell_type": "code",
   "execution_count": 39,
   "metadata": {},
   "outputs": [
    {
     "data": {
      "image/png": "[encoded data removed]",
      "text/plain": [
       "<Figure size 1000x500 with 1 Axes>"
      ]
     },
     "metadata": {},
     "output_type": "display_data"
    }
   ],
   "source": [
    "# Users with the most ratings\n",
    "top_users = ratings[\"userId\"].value_counts().head(10)\n",
    "plt.figure(figsize=(10, 5))\n",
    "top_users.plot(kind='bar', color='orange')\n",
    "plt.xlabel(\"User ID\")\n",
    "plt.ylabel(\"Number of Ratings\")\n",
    "plt.title(\"Top 10 Users with Most Ratings\")\n",
    "plt.show()"
   ]
  },
  {
   "cell_type": "code",
   "execution_count": 40,
   "metadata": {},
   "outputs": [
    {
     "name": "stderr",
     "output_type": "stream",
     "text": [
      "C:\\Users\\Madhusmita Panda\\AppData\\Local\\Temp\\ipykernel_12976\\3365732843.py:6: FutureWarning: \n",
      "\n",
      "Passing `palette` without assigning `hue` is deprecated and will be removed in v0.14.0. Assign the `x` variable to `hue` and set `legend=False` for the same effect.\n",
      "\n",
      "  sns.barplot(x=genre_counts.index, y=genre_counts.values, palette=\"coolwarm\")\n"
     ]
    },
    {
     "data": {
      "image/png": "[encoded data removed]",
      "text/plain": [
       "<Figure size 1200x500 with 1 Axes>"
      ]
     },
     "metadata": {},
     "output_type": "display_data"
    }
   ],
   "source": [
    "# Movie genres analysis\n",
    "movies[\"genres\"] = movies[\"genres\"].apply(lambda x: x.split(\"|\") if isinstance(x, str) else [])\n",
    "all_genres = [genre for sublist in movies[\"genres\"] for genre in sublist]\n",
    "genre_counts = pd.Series(all_genres).value_counts()\n",
    "plt.figure(figsize=(12, 5))\n",
    "sns.barplot(x=genre_counts.index, y=genre_counts.values, palette=\"coolwarm\")\n",
    "plt.xticks(rotation=45)\n",
    "plt.xlabel(\"Genre\")\n",
    "plt.ylabel(\"Count\")\n",
    "plt.title(\"Distribution of Movie Genres\")\n",
    "plt.show()\n"
   ]
  },
  {
   "cell_type": "markdown",
   "metadata": {
    "id": "xJoiPXKIwG7U"
   },
   "source": [
    "# Content Based Filtering"
   ]
  },
  {
   "cell_type": "code",
   "execution_count": 13,
   "metadata": {
    "colab": {
     "base_uri": "https://localhost:8080/",
     "height": 261
    },
    "executionInfo": {
     "elapsed": 1353,
     "status": "ok",
     "timestamp": 1742470546385,
     "user": {
      "displayName": "Madhureema Das",
      "userId": "02243178770954173443"
     },
     "user_tz": -330
    },
    "id": "DLycTH5ywLJY",
    "outputId": "b0a2e912-13db-4b2d-da78-8fd3935d4af1"
   },
   "outputs": [
    {
     "data": {
      "text/html": [
       "<div>\n",
       "<style scoped>\n",
       "    .dataframe tbody tr th:only-of-type {\n",
       "        vertical-align: middle;\n",
       "    }\n",
       "\n",
       "    .dataframe tbody tr th {\n",
       "        vertical-align: top;\n",
       "    }\n",
       "\n",
       "    .dataframe thead th {\n",
       "        text-align: right;\n",
       "    }\n",
       "</style>\n",
       "<table border=\"1\" class=\"dataframe\">\n",
       "  <thead>\n",
       "    <tr style=\"text-align: right;\">\n",
       "      <th></th>\n",
       "      <th>(no genres listed)</th>\n",
       "      <th>Action</th>\n",
       "      <th>Adventure</th>\n",
       "      <th>Animation</th>\n",
       "      <th>Children</th>\n",
       "      <th>Comedy</th>\n",
       "      <th>Crime</th>\n",
       "      <th>Documentary</th>\n",
       "      <th>Drama</th>\n",
       "      <th>Fantasy</th>\n",
       "      <th>Film-Noir</th>\n",
       "      <th>Horror</th>\n",
       "      <th>IMAX</th>\n",
       "      <th>Musical</th>\n",
       "      <th>Mystery</th>\n",
       "      <th>Romance</th>\n",
       "      <th>Sci-Fi</th>\n",
       "      <th>Thriller</th>\n",
       "      <th>War</th>\n",
       "      <th>Western</th>\n",
       "    </tr>\n",
       "  </thead>\n",
       "  <tbody>\n",
       "    <tr>\n",
       "      <th>0</th>\n",
       "      <td>0</td>\n",
       "      <td>0</td>\n",
       "      <td>1</td>\n",
       "      <td>1</td>\n",
       "      <td>1</td>\n",
       "      <td>1</td>\n",
       "      <td>0</td>\n",
       "      <td>0</td>\n",
       "      <td>0</td>\n",
       "      <td>1</td>\n",
       "      <td>0</td>\n",
       "      <td>0</td>\n",
       "      <td>0</td>\n",
       "      <td>0</td>\n",
       "      <td>0</td>\n",
       "      <td>0</td>\n",
       "      <td>0</td>\n",
       "      <td>0</td>\n",
       "      <td>0</td>\n",
       "      <td>0</td>\n",
       "    </tr>\n",
       "    <tr>\n",
       "      <th>1</th>\n",
       "      <td>0</td>\n",
       "      <td>0</td>\n",
       "      <td>1</td>\n",
       "      <td>0</td>\n",
       "      <td>1</td>\n",
       "      <td>0</td>\n",
       "      <td>0</td>\n",
       "      <td>0</td>\n",
       "      <td>0</td>\n",
       "      <td>1</td>\n",
       "      <td>0</td>\n",
       "      <td>0</td>\n",
       "      <td>0</td>\n",
       "      <td>0</td>\n",
       "      <td>0</td>\n",
       "      <td>0</td>\n",
       "      <td>0</td>\n",
       "      <td>0</td>\n",
       "      <td>0</td>\n",
       "      <td>0</td>\n",
       "    </tr>\n",
       "    <tr>\n",
       "      <th>2</th>\n",
       "      <td>0</td>\n",
       "      <td>0</td>\n",
       "      <td>0</td>\n",
       "      <td>0</td>\n",
       "      <td>0</td>\n",
       "      <td>1</td>\n",
       "      <td>0</td>\n",
       "      <td>0</td>\n",
       "      <td>0</td>\n",
       "      <td>0</td>\n",
       "      <td>0</td>\n",
       "      <td>0</td>\n",
       "      <td>0</td>\n",
       "      <td>0</td>\n",
       "      <td>0</td>\n",
       "      <td>1</td>\n",
       "      <td>0</td>\n",
       "      <td>0</td>\n",
       "      <td>0</td>\n",
       "      <td>0</td>\n",
       "    </tr>\n",
       "    <tr>\n",
       "      <th>3</th>\n",
       "      <td>0</td>\n",
       "      <td>0</td>\n",
       "      <td>0</td>\n",
       "      <td>0</td>\n",
       "      <td>0</td>\n",
       "      <td>1</td>\n",
       "      <td>0</td>\n",
       "      <td>0</td>\n",
       "      <td>1</td>\n",
       "      <td>0</td>\n",
       "      <td>0</td>\n",
       "      <td>0</td>\n",
       "      <td>0</td>\n",
       "      <td>0</td>\n",
       "      <td>0</td>\n",
       "      <td>1</td>\n",
       "      <td>0</td>\n",
       "      <td>0</td>\n",
       "      <td>0</td>\n",
       "      <td>0</td>\n",
       "    </tr>\n",
       "    <tr>\n",
       "      <th>4</th>\n",
       "      <td>0</td>\n",
       "      <td>0</td>\n",
       "      <td>0</td>\n",
       "      <td>0</td>\n",
       "      <td>0</td>\n",
       "      <td>1</td>\n",
       "      <td>0</td>\n",
       "      <td>0</td>\n",
       "      <td>0</td>\n",
       "      <td>0</td>\n",
       "      <td>0</td>\n",
       "      <td>0</td>\n",
       "      <td>0</td>\n",
       "      <td>0</td>\n",
       "      <td>0</td>\n",
       "      <td>0</td>\n",
       "      <td>0</td>\n",
       "      <td>0</td>\n",
       "      <td>0</td>\n",
       "      <td>0</td>\n",
       "    </tr>\n",
       "  </tbody>\n",
       "</table>\n",
       "</div>"
      ],
      "text/plain": [
       "   (no genres listed)  Action  Adventure  Animation  Children  Comedy  Crime  \\\n",
       "0                   0       0          1          1         1       1      0   \n",
       "1                   0       0          1          0         1       0      0   \n",
       "2                   0       0          0          0         0       1      0   \n",
       "3                   0       0          0          0         0       1      0   \n",
       "4                   0       0          0          0         0       1      0   \n",
       "\n",
       "   Documentary  Drama  Fantasy  Film-Noir  Horror  IMAX  Musical  Mystery  \\\n",
       "0            0      0        1          0       0     0        0        0   \n",
       "1            0      0        1          0       0     0        0        0   \n",
       "2            0      0        0          0       0     0        0        0   \n",
       "3            0      1        0          0       0     0        0        0   \n",
       "4            0      0        0          0       0     0        0        0   \n",
       "\n",
       "   Romance  Sci-Fi  Thriller  War  Western  \n",
       "0        0       0         0    0        0  \n",
       "1        0       0         0    0        0  \n",
       "2        1       0         0    0        0  \n",
       "3        1       0         0    0        0  \n",
       "4        0       0         0    0        0  "
      ]
     },
     "execution_count": 13,
     "metadata": {},
     "output_type": "execute_result"
    }
   ],
   "source": [
    "from sklearn.metrics.pairwise import cosine_similarity\n",
    "\n",
    "# Create a 'genres' matrix where each movie is represented by its genres\n",
    "def create_genre_matrix(movies):\n",
    "    genre_matrix = movies['genres'].str.get_dummies(sep='|')\n",
    "    return genre_matrix\n",
    "\n",
    "genre_matrix = create_genre_matrix(movies)\n",
    "\n",
    "genre_matrix.head()"
   ]
  },
  {
   "cell_type": "code",
   "execution_count": 14,
   "metadata": {
    "colab": {
     "base_uri": "https://localhost:8080/"
    },
    "executionInfo": {
     "elapsed": 12850,
     "status": "ok",
     "timestamp": 1742470560970,
     "user": {
      "displayName": "Madhureema Das",
      "userId": "02243178770954173443"
     },
     "user_tz": -330
    },
    "id": "vvAW4eK9wXg6",
    "outputId": "d7d4d11f-eae2-4589-f545-b8e85499f728"
   },
   "outputs": [
    {
     "data": {
      "text/plain": [
       "(27278, 27278)"
      ]
     },
     "execution_count": 14,
     "metadata": {},
     "output_type": "execute_result"
    }
   ],
   "source": [
    "# Compute cosine similarity between all movies based on genres\n",
    "content_similarity = cosine_similarity(genre_matrix)\n",
    "\n",
    "content_similarity.shape"
   ]
  },
  {
   "cell_type": "code",
   "execution_count": 15,
   "metadata": {
    "colab": {
     "base_uri": "https://localhost:8080/",
     "height": 912
    },
    "executionInfo": {
     "elapsed": 2033,
     "status": "ok",
     "timestamp": 1742470564573,
     "user": {
      "displayName": "Madhureema Das",
      "userId": "02243178770954173443"
     },
     "user_tz": -330
    },
    "id": "LTgdevi2nVSN",
    "outputId": "3e57df32-eae5-49be-fa83-e89db0169467"
   },
   "outputs": [
    {
     "data": {
      "image/png": "[encoded data removed]",
      "text/plain": [
       "<Figure size 1000x800 with 2 Axes>"
      ]
     },
     "metadata": {},
     "output_type": "display_data"
    }
   ],
   "source": [
    "import seaborn as sns\n",
    "import matplotlib.pyplot as plt\n",
    "\n",
    "# Select a subset of the top 20 movies (for example, the first 20 movies)\n",
    "subset_size = 20\n",
    "subset_similarity = content_similarity[:subset_size, :subset_size]\n",
    "subset_titles = movies['title'][:subset_size]\n",
    "\n",
    "# Create a heatmap for the smaller cosine similarity matrix\n",
    "plt.figure(figsize=(10, 8))\n",
    "sns.heatmap(subset_similarity, cmap='Blues', annot=False, fmt='.2f',\n",
    "            xticklabels=subset_titles, yticklabels=subset_titles)\n",
    "\n",
    "# Adding labels and title\n",
    "plt.title(f\"Cosine Similarity Heatmap (Top {subset_size} Movies) Based on Genres\")\n",
    "plt.xlabel(\"Movies\")\n",
    "plt.ylabel(\"Movies\")\n",
    "plt.show()\n"
   ]
  },
  {
   "cell_type": "code",
   "execution_count": 18,
   "metadata": {
    "id": "CqHPnoDcjZnm"
   },
   "outputs": [],
   "source": [
    "def content_based_recommendations(movie_name, top_n=10):\n",
    "  # Find the index of the given movie by its name\n",
    "  movie_idx = movies[movies['title'] == movie_name].index[0]\n",
    "\n",
    "  # Get similarity scores for the given movie\n",
    "  similar_scores = list(enumerate(content_similarity[movie_idx]))\n",
    "\n",
    "  # Sort the movies by similarity score in descending order\n",
    "  similar_scores = sorted(similar_scores, key=lambda x: x[1], reverse=True)\n",
    "\n",
    "  # Get top N similar movies (excluding the movie itself)\n",
    "  top_similar_movies = [movies.iloc[i[0]] for i in similar_scores[1:top_n+1]]\n",
    "\n",
    "  return top_similar_movies"
   ]
  },
  {
   "cell_type": "code",
   "execution_count": 19,
   "metadata": {
    "colab": {
     "base_uri": "https://localhost:8080/"
    },
    "executionInfo": {
     "elapsed": 21,
     "status": "ok",
     "timestamp": 1742470571435,
     "user": {
      "displayName": "Madhureema Das",
      "userId": "02243178770954173443"
     },
     "user_tz": -330
    },
    "id": "anySvqLzeTKY",
    "outputId": "b245a4fe-09d3-47f2-a227-aed454ca1971"
   },
   "outputs": [
    {
     "name": "stdout",
     "output_type": "stream",
     "text": [
      "Antz (1998)\n",
      "Toy Story 2 (1999)\n",
      "Adventures of Rocky and Bullwinkle, The (2000)\n",
      "Emperor's New Groove, The (2000)\n",
      "Monsters, Inc. (2001)\n",
      "DuckTales: The Movie - Treasure of the Lost Lamp (1990)\n",
      "Wild, The (2006)\n",
      "Shrek the Third (2007)\n",
      "Tale of Despereaux, The (2008)\n",
      "Asterix and the Vikings (Astérix et les Vikings) (2006)\n"
     ]
    }
   ],
   "source": [
    "# Example usage: Get top 5 movies similar to 'Toy Story (1995)'\n",
    "movie_title = \"Toy Story (1995)\"\n",
    "recommended_movies = content_based_recommendations(movie_title, top_n=10)\n",
    "\n",
    "# Display the recommended movies\n",
    "for i in recommended_movies:\n",
    "  x = i.tolist()\n",
    "  print(f\"{x[1]}\")"
   ]
  },
  {
   "cell_type": "markdown",
   "metadata": {
    "id": "jza9B7qtmYlr"
   },
   "source": [
    "# Collaborative filtering - User based"
   ]
  },
  {
   "cell_type": "code",
   "execution_count": 20,
   "metadata": {
    "id": "cv7T4Hw_qtFM"
   },
   "outputs": [],
   "source": [
    "from scipy.sparse import coo_matrix\n",
    "\n",
    "sparse_matrix = coo_matrix((ratings['rating'], (ratings['userId'], ratings['movieId'])))"
   ]
  },
  {
   "cell_type": "code",
   "execution_count": 21,
   "metadata": {
    "colab": {
     "base_uri": "https://localhost:8080/",
     "height": 80
    },
    "executionInfo": {
     "elapsed": 1346,
     "status": "ok",
     "timestamp": 1742470579239,
     "user": {
      "displayName": "Madhureema Das",
      "userId": "02243178770954173443"
     },
     "user_tz": -330
    },
    "id": "UuWlOiMWq0PV",
    "outputId": "94028ec8-b8cd-427f-db90-fdc6bbf859d2"
   },
   "outputs": [
    {
     "data": {
      "text/html": [
       "<style>#sk-container-id-1 {\n",
       "  /* Definition of color scheme common for light and dark mode */\n",
       "  --sklearn-color-text: black;\n",
       "  --sklearn-color-line: gray;\n",
       "  /* Definition of color scheme for unfitted estimators */\n",
       "  --sklearn-color-unfitted-level-0: #fff5e6;\n",
       "  --sklearn-color-unfitted-level-1: #f6e4d2;\n",
       "  --sklearn-color-unfitted-level-2: #ffe0b3;\n",
       "  --sklearn-color-unfitted-level-3: chocolate;\n",
       "  /* Definition of color scheme for fitted estimators */\n",
       "  --sklearn-color-fitted-level-0: #f0f8ff;\n",
       "  --sklearn-color-fitted-level-1: #d4ebff;\n",
       "  --sklearn-color-fitted-level-2: #b3dbfd;\n",
       "  --sklearn-color-fitted-level-3: cornflowerblue;\n",
       "\n",
       "  /* Specific color for light theme */\n",
       "  --sklearn-color-text-on-default-background: var(--sg-text-color, var(--theme-code-foreground, var(--jp-content-font-color1, black)));\n",
       "  --sklearn-color-background: var(--sg-background-color, var(--theme-background, var(--jp-layout-color0, white)));\n",
       "  --sklearn-color-border-box: var(--sg-text-color, var(--theme-code-foreground, var(--jp-content-font-color1, black)));\n",
       "  --sklearn-color-icon: #696969;\n",
       "\n",
       "  @media (prefers-color-scheme: dark) {\n",
       "    /* Redefinition of color scheme for dark theme */\n",
       "    --sklearn-color-text-on-default-background: var(--sg-text-color, var(--theme-code-foreground, var(--jp-content-font-color1, white)));\n",
       "    --sklearn-color-background: var(--sg-background-color, var(--theme-background, var(--jp-layout-color0, #111)));\n",
       "    --sklearn-color-border-box: var(--sg-text-color, var(--theme-code-foreground, var(--jp-content-font-color1, white)));\n",
       "    --sklearn-color-icon: #878787;\n",
       "  }\n",
       "}\n",
       "\n",
       "#sk-container-id-1 {\n",
       "  color: var(--sklearn-color-text);\n",
       "}\n",
       "\n",
       "#sk-container-id-1 pre {\n",
       "  padding: 0;\n",
       "}\n",
       "\n",
       "#sk-container-id-1 input.sk-hidden--visually {\n",
       "  border: 0;\n",
       "  clip: rect(1px 1px 1px 1px);\n",
       "  clip: rect(1px, 1px, 1px, 1px);\n",
       "  height: 1px;\n",
       "  margin: -1px;\n",
       "  overflow: hidden;\n",
       "  padding: 0;\n",
       "  position: absolute;\n",
       "  width: 1px;\n",
       "}\n",
       "\n",
       "#sk-container-id-1 div.sk-dashed-wrapped {\n",
       "  border: 1px dashed var(--sklearn-color-line);\n",
       "  margin: 0 0.4em 0.5em 0.4em;\n",
       "  box-sizing: border-box;\n",
       "  padding-bottom: 0.4em;\n",
       "  background-color: var(--sklearn-color-background);\n",
       "}\n",
       "\n",
       "#sk-container-id-1 div.sk-container {\n",
       "  /* jupyter's `normalize.less` sets `[hidden] { display: none; }`\n",
       "     but bootstrap.min.css set `[hidden] { display: none !important; }`\n",
       "     so we also need the `!important` here to be able to override the\n",
       "     default hidden behavior on the sphinx rendered scikit-learn.org.\n",
       "     See: https://github.com/scikit-learn/scikit-learn/issues/21755 */\n",
       "  display: inline-block !important;\n",
       "  position: relative;\n",
       "}\n",
       "\n",
       "#sk-container-id-1 div.sk-text-repr-fallback {\n",
       "  display: none;\n",
       "}\n",
       "\n",
       "div.sk-parallel-item,\n",
       "div.sk-serial,\n",
       "div.sk-item {\n",
       "  /* draw centered vertical line to link estimators */\n",
       "  background-image: linear-gradient(var(--sklearn-color-text-on-default-background), var(--sklearn-color-text-on-default-background));\n",
       "  background-size: 2px 100%;\n",
       "  background-repeat: no-repeat;\n",
       "  background-position: center center;\n",
       "}\n",
       "\n",
       "/* Parallel-specific style estimator block */\n",
       "\n",
       "#sk-container-id-1 div.sk-parallel-item::after {\n",
       "  content: \"\";\n",
       "  width: 100%;\n",
       "  border-bottom: 2px solid var(--sklearn-color-text-on-default-background);\n",
       "  flex-grow: 1;\n",
       "}\n",
       "\n",
       "#sk-container-id-1 div.sk-parallel {\n",
       "  display: flex;\n",
       "  align-items: stretch;\n",
       "  justify-content: center;\n",
       "  background-color: var(--sklearn-color-background);\n",
       "  position: relative;\n",
       "}\n",
       "\n",
       "#sk-container-id-1 div.sk-parallel-item {\n",
       "  display: flex;\n",
       "  flex-direction: column;\n",
       "}\n",
       "\n",
       "#sk-container-id-1 div.sk-parallel-item:first-child::after {\n",
       "  align-self: flex-end;\n",
       "  width: 50%;\n",
       "}\n",
       "\n",
       "#sk-container-id-1 div.sk-parallel-item:last-child::after {\n",
       "  align-self: flex-start;\n",
       "  width: 50%;\n",
       "}\n",
       "\n",
       "#sk-container-id-1 div.sk-parallel-item:only-child::after {\n",
       "  width: 0;\n",
       "}\n",
       "\n",
       "/* Serial-specific style estimator block */\n",
       "\n",
       "#sk-container-id-1 div.sk-serial {\n",
       "  display: flex;\n",
       "  flex-direction: column;\n",
       "  align-items: center;\n",
       "  background-color: var(--sklearn-color-background);\n",
       "  padding-right: 1em;\n",
       "  padding-left: 1em;\n",
       "}\n",
       "\n",
       "\n",
       "/* Toggleable style: style used for estimator/Pipeline/ColumnTransformer box that is\n",
       "clickable and can be expanded/collapsed.\n",
       "- Pipeline and ColumnTransformer use this feature and define the default style\n",
       "- Estimators will overwrite some part of the style using the `sk-estimator` class\n",
       "*/\n",
       "\n",
       "/* Pipeline and ColumnTransformer style (default) */\n",
       "\n",
       "#sk-container-id-1 div.sk-toggleable {\n",
       "  /* Default theme specific background. It is overwritten whether we have a\n",
       "  specific estimator or a Pipeline/ColumnTransformer */\n",
       "  background-color: var(--sklearn-color-background);\n",
       "}\n",
       "\n",
       "/* Toggleable label */\n",
       "#sk-container-id-1 label.sk-toggleable__label {\n",
       "  cursor: pointer;\n",
       "  display: block;\n",
       "  width: 100%;\n",
       "  margin-bottom: 0;\n",
       "  padding: 0.5em;\n",
       "  box-sizing: border-box;\n",
       "  text-align: center;\n",
       "}\n",
       "\n",
       "#sk-container-id-1 label.sk-toggleable__label-arrow:before {\n",
       "  /* Arrow on the left of the label */\n",
       "  content: \"▸\";\n",
       "  float: left;\n",
       "  margin-right: 0.25em;\n",
       "  color: var(--sklearn-color-icon);\n",
       "}\n",
       "\n",
       "#sk-container-id-1 label.sk-toggleable__label-arrow:hover:before {\n",
       "  color: var(--sklearn-color-text);\n",
       "}\n",
       "\n",
       "/* Toggleable content - dropdown */\n",
       "\n",
       "#sk-container-id-1 div.sk-toggleable__content {\n",
       "  max-height: 0;\n",
       "  max-width: 0;\n",
       "  overflow: hidden;\n",
       "  text-align: left;\n",
       "  /* unfitted */\n",
       "  background-color: var(--sklearn-color-unfitted-level-0);\n",
       "}\n",
       "\n",
       "#sk-container-id-1 div.sk-toggleable__content.fitted {\n",
       "  /* fitted */\n",
       "  background-color: var(--sklearn-color-fitted-level-0);\n",
       "}\n",
       "\n",
       "#sk-container-id-1 div.sk-toggleable__content pre {\n",
       "  margin: 0.2em;\n",
       "  border-radius: 0.25em;\n",
       "  color: var(--sklearn-color-text);\n",
       "  /* unfitted */\n",
       "  background-color: var(--sklearn-color-unfitted-level-0);\n",
       "}\n",
       "\n",
       "#sk-container-id-1 div.sk-toggleable__content.fitted pre {\n",
       "  /* unfitted */\n",
       "  background-color: var(--sklearn-color-fitted-level-0);\n",
       "}\n",
       "\n",
       "#sk-container-id-1 input.sk-toggleable__control:checked~div.sk-toggleable__content {\n",
       "  /* Expand drop-down */\n",
       "  max-height: 200px;\n",
       "  max-width: 100%;\n",
       "  overflow: auto;\n",
       "}\n",
       "\n",
       "#sk-container-id-1 input.sk-toggleable__control:checked~label.sk-toggleable__label-arrow:before {\n",
       "  content: \"▾\";\n",
       "}\n",
       "\n",
       "/* Pipeline/ColumnTransformer-specific style */\n",
       "\n",
       "#sk-container-id-1 div.sk-label input.sk-toggleable__control:checked~label.sk-toggleable__label {\n",
       "  color: var(--sklearn-color-text);\n",
       "  background-color: var(--sklearn-color-unfitted-level-2);\n",
       "}\n",
       "\n",
       "#sk-container-id-1 div.sk-label.fitted input.sk-toggleable__control:checked~label.sk-toggleable__label {\n",
       "  background-color: var(--sklearn-color-fitted-level-2);\n",
       "}\n",
       "\n",
       "/* Estimator-specific style */\n",
       "\n",
       "/* Colorize estimator box */\n",
       "#sk-container-id-1 div.sk-estimator input.sk-toggleable__control:checked~label.sk-toggleable__label {\n",
       "  /* unfitted */\n",
       "  background-color: var(--sklearn-color-unfitted-level-2);\n",
       "}\n",
       "\n",
       "#sk-container-id-1 div.sk-estimator.fitted input.sk-toggleable__control:checked~label.sk-toggleable__label {\n",
       "  /* fitted */\n",
       "  background-color: var(--sklearn-color-fitted-level-2);\n",
       "}\n",
       "\n",
       "#sk-container-id-1 div.sk-label label.sk-toggleable__label,\n",
       "#sk-container-id-1 div.sk-label label {\n",
       "  /* The background is the default theme color */\n",
       "  color: var(--sklearn-color-text-on-default-background);\n",
       "}\n",
       "\n",
       "/* On hover, darken the color of the background */\n",
       "#sk-container-id-1 div.sk-label:hover label.sk-toggleable__label {\n",
       "  color: var(--sklearn-color-text);\n",
       "  background-color: var(--sklearn-color-unfitted-level-2);\n",
       "}\n",
       "\n",
       "/* Label box, darken color on hover, fitted */\n",
       "#sk-container-id-1 div.sk-label.fitted:hover label.sk-toggleable__label.fitted {\n",
       "  color: var(--sklearn-color-text);\n",
       "  background-color: var(--sklearn-color-fitted-level-2);\n",
       "}\n",
       "\n",
       "/* Estimator label */\n",
       "\n",
       "#sk-container-id-1 div.sk-label label {\n",
       "  font-family: monospace;\n",
       "  font-weight: bold;\n",
       "  display: inline-block;\n",
       "  line-height: 1.2em;\n",
       "}\n",
       "\n",
       "#sk-container-id-1 div.sk-label-container {\n",
       "  text-align: center;\n",
       "}\n",
       "\n",
       "/* Estimator-specific */\n",
       "#sk-container-id-1 div.sk-estimator {\n",
       "  font-family: monospace;\n",
       "  border: 1px dotted var(--sklearn-color-border-box);\n",
       "  border-radius: 0.25em;\n",
       "  box-sizing: border-box;\n",
       "  margin-bottom: 0.5em;\n",
       "  /* unfitted */\n",
       "  background-color: var(--sklearn-color-unfitted-level-0);\n",
       "}\n",
       "\n",
       "#sk-container-id-1 div.sk-estimator.fitted {\n",
       "  /* fitted */\n",
       "  background-color: var(--sklearn-color-fitted-level-0);\n",
       "}\n",
       "\n",
       "/* on hover */\n",
       "#sk-container-id-1 div.sk-estimator:hover {\n",
       "  /* unfitted */\n",
       "  background-color: var(--sklearn-color-unfitted-level-2);\n",
       "}\n",
       "\n",
       "#sk-container-id-1 div.sk-estimator.fitted:hover {\n",
       "  /* fitted */\n",
       "  background-color: var(--sklearn-color-fitted-level-2);\n",
       "}\n",
       "\n",
       "/* Specification for estimator info (e.g. \"i\" and \"?\") */\n",
       "\n",
       "/* Common style for \"i\" and \"?\" */\n",
       "\n",
       ".sk-estimator-doc-link,\n",
       "a:link.sk-estimator-doc-link,\n",
       "a:visited.sk-estimator-doc-link {\n",
       "  float: right;\n",
       "  font-size: smaller;\n",
       "  line-height: 1em;\n",
       "  font-family: monospace;\n",
       "  background-color: var(--sklearn-color-background);\n",
       "  border-radius: 1em;\n",
       "  height: 1em;\n",
       "  width: 1em;\n",
       "  text-decoration: none !important;\n",
       "  margin-left: 1ex;\n",
       "  /* unfitted */\n",
       "  border: var(--sklearn-color-unfitted-level-1) 1pt solid;\n",
       "  color: var(--sklearn-color-unfitted-level-1);\n",
       "}\n",
       "\n",
       ".sk-estimator-doc-link.fitted,\n",
       "a:link.sk-estimator-doc-link.fitted,\n",
       "a:visited.sk-estimator-doc-link.fitted {\n",
       "  /* fitted */\n",
       "  border: var(--sklearn-color-fitted-level-1) 1pt solid;\n",
       "  color: var(--sklearn-color-fitted-level-1);\n",
       "}\n",
       "\n",
       "/* On hover */\n",
       "div.sk-estimator:hover .sk-estimator-doc-link:hover,\n",
       ".sk-estimator-doc-link:hover,\n",
       "div.sk-label-container:hover .sk-estimator-doc-link:hover,\n",
       ".sk-estimator-doc-link:hover {\n",
       "  /* unfitted */\n",
       "  background-color: var(--sklearn-color-unfitted-level-3);\n",
       "  color: var(--sklearn-color-background);\n",
       "  text-decoration: none;\n",
       "}\n",
       "\n",
       "div.sk-estimator.fitted:hover .sk-estimator-doc-link.fitted:hover,\n",
       ".sk-estimator-doc-link.fitted:hover,\n",
       "div.sk-label-container:hover .sk-estimator-doc-link.fitted:hover,\n",
       ".sk-estimator-doc-link.fitted:hover {\n",
       "  /* fitted */\n",
       "  background-color: var(--sklearn-color-fitted-level-3);\n",
       "  color: var(--sklearn-color-background);\n",
       "  text-decoration: none;\n",
       "}\n",
       "\n",
       "/* Span, style for the box shown on hovering the info icon */\n",
       ".sk-estimator-doc-link span {\n",
       "  display: none;\n",
       "  z-index: 9999;\n",
       "  position: relative;\n",
       "  font-weight: normal;\n",
       "  right: .2ex;\n",
       "  padding: .5ex;\n",
       "  margin: .5ex;\n",
       "  width: min-content;\n",
       "  min-width: 20ex;\n",
       "  max-width: 50ex;\n",
       "  color: var(--sklearn-color-text);\n",
       "  box-shadow: 2pt 2pt 4pt #999;\n",
       "  /* unfitted */\n",
       "  background: var(--sklearn-color-unfitted-level-0);\n",
       "  border: .5pt solid var(--sklearn-color-unfitted-level-3);\n",
       "}\n",
       "\n",
       ".sk-estimator-doc-link.fitted span {\n",
       "  /* fitted */\n",
       "  background: var(--sklearn-color-fitted-level-0);\n",
       "  border: var(--sklearn-color-fitted-level-3);\n",
       "}\n",
       "\n",
       ".sk-estimator-doc-link:hover span {\n",
       "  display: block;\n",
       "}\n",
       "\n",
       "/* \"?\"-specific style due to the `<a>` HTML tag */\n",
       "\n",
       "#sk-container-id-1 a.estimator_doc_link {\n",
       "  float: right;\n",
       "  font-size: 1rem;\n",
       "  line-height: 1em;\n",
       "  font-family: monospace;\n",
       "  background-color: var(--sklearn-color-background);\n",
       "  border-radius: 1rem;\n",
       "  height: 1rem;\n",
       "  width: 1rem;\n",
       "  text-decoration: none;\n",
       "  /* unfitted */\n",
       "  color: var(--sklearn-color-unfitted-level-1);\n",
       "  border: var(--sklearn-color-unfitted-level-1) 1pt solid;\n",
       "}\n",
       "\n",
       "#sk-container-id-1 a.estimator_doc_link.fitted {\n",
       "  /* fitted */\n",
       "  border: var(--sklearn-color-fitted-level-1) 1pt solid;\n",
       "  color: var(--sklearn-color-fitted-level-1);\n",
       "}\n",
       "\n",
       "/* On hover */\n",
       "#sk-container-id-1 a.estimator_doc_link:hover {\n",
       "  /* unfitted */\n",
       "  background-color: var(--sklearn-color-unfitted-level-3);\n",
       "  color: var(--sklearn-color-background);\n",
       "  text-decoration: none;\n",
       "}\n",
       "\n",
       "#sk-container-id-1 a.estimator_doc_link.fitted:hover {\n",
       "  /* fitted */\n",
       "  background-color: var(--sklearn-color-fitted-level-3);\n",
       "}\n",
       "</style><div id=\"sk-container-id-1\" class=\"sk-top-container\"><div class=\"sk-text-repr-fallback\"><pre>NearestNeighbors(algorithm=&#x27;brute&#x27;, metric=&#x27;cosine&#x27;, n_neighbors=10)</pre><b>In a Jupyter environment, please rerun this cell to show the HTML representation or trust the notebook. <br />On GitHub, the HTML representation is unable to render, please try loading this page with nbviewer.org.</b></div><div class=\"sk-container\" hidden><div class=\"sk-item\"><div class=\"sk-estimator fitted sk-toggleable\"><input class=\"sk-toggleable__control sk-hidden--visually\" id=\"sk-estimator-id-1\" type=\"checkbox\" checked><label for=\"sk-estimator-id-1\" class=\"sk-toggleable__label fitted sk-toggleable__label-arrow fitted\">&nbsp;&nbsp;NearestNeighbors<a class=\"sk-estimator-doc-link fitted\" rel=\"noreferrer\" target=\"_blank\" href=\"https://scikit-learn.org/1.5/modules/generated/sklearn.neighbors.NearestNeighbors.html\">?<span>Documentation for NearestNeighbors</span></a><span class=\"sk-estimator-doc-link fitted\">i<span>Fitted</span></span></label><div class=\"sk-toggleable__content fitted\"><pre>NearestNeighbors(algorithm=&#x27;brute&#x27;, metric=&#x27;cosine&#x27;, n_neighbors=10)</pre></div> </div></div></div></div>"
      ],
      "text/plain": [
       "NearestNeighbors(algorithm='brute', metric='cosine', n_neighbors=10)"
      ]
     },
     "execution_count": 21,
     "metadata": {},
     "output_type": "execute_result"
    }
   ],
   "source": [
    "from sklearn.neighbors import NearestNeighbors\n",
    "\n",
    "model = NearestNeighbors(metric='cosine', algorithm='brute', n_neighbors=10)\n",
    "model.fit(sparse_matrix)"
   ]
  },
  {
   "cell_type": "code",
   "execution_count": 22,
   "metadata": {
    "id": "jOiHTW37q669"
   },
   "outputs": [],
   "source": [
    "# Define recommendation function\n",
    "def recommend_user_based(user_id, model=model):\n",
    "    user_row = sparse_matrix.getrow(user_id - 1)\n",
    "    distances, indices = model.kneighbors(user_row)\n",
    "\n",
    "    similar_users = indices.flatten()\n",
    "\n",
    "    recommendations = []\n",
    "    for user in similar_users[1:]:  # Skip the first user (the same user)\n",
    "        similar_user_ratings = sparse_matrix.getrow(user).toarray().flatten()\n",
    "        recommendations.extend([i for i, rating in enumerate(similar_user_ratings) if rating > 0])\n",
    "\n",
    "    # Remove duplicates\n",
    "    recommendations = list(set(recommendations))\n",
    "\n",
    "    return recommendations"
   ]
  },
  {
   "cell_type": "code",
   "execution_count": 23,
   "metadata": {
    "colab": {
     "base_uri": "https://localhost:8080/"
    },
    "executionInfo": {
     "elapsed": 2855,
     "status": "ok",
     "timestamp": 1742471027079,
     "user": {
      "displayName": "Madhureema Das",
      "userId": "02243178770954173443"
     },
     "user_tz": -330
    },
    "id": "kroaeDGrrb_V",
    "outputId": "8b85e4d7-3edd-4324-d394-bf50fd017414"
   },
   "outputs": [
    {
     "name": "stdout",
     "output_type": "stream",
     "text": [
      "Top 10 Movies recommended for User 8:\n",
      "- Toy Story (1995)\n",
      "- Jumanji (1995)\n",
      "- Grumpier Old Men (1995)\n",
      "- Heat (1995)\n",
      "- Sabrina (1995)\n",
      "- Sudden Death (1995)\n",
      "- GoldenEye (1995)\n",
      "- American President, The (1995)\n",
      "- Dracula: Dead and Loving It (1995)\n",
      "- Balto (1995)\n",
      "\n",
      "Top 10 Movies already seen by User 8:\n",
      "- Toy Story (1995) (Rating: 4.0)\n",
      "- Grumpier Old Men (1995) (Rating: 5.0)\n",
      "- Heat (1995) (Rating: 3.0)\n",
      "- GoldenEye (1995) (Rating: 4.0)\n",
      "- Ace Ventura: When Nature Calls (1995) (Rating: 1.0)\n",
      "- Get Shorty (1995) (Rating: 4.0)\n",
      "- Clueless (1995) (Rating: 3.0)\n",
      "- Seven (a.k.a. Se7en) (1995) (Rating: 5.0)\n",
      "- Pocahontas (1995) (Rating: 4.0)\n",
      "- Braveheart (1995) (Rating: 5.0)\n"
     ]
    }
   ],
   "source": [
    "# Convert movie IDs to movie titles\n",
    "def get_movie_titles(movie_ids):\n",
    "    # Get movie titles for the movieIds, limit to the first 10 movieIds\n",
    "    movie_titles = movies[movies['movieId'].isin(movie_ids)]['title'].tolist()\n",
    "    return movie_titles[:10]  # Limit the result to the top 10\n",
    "\n",
    "# List the movies the user has already seen\n",
    "def get_user_movies(user_id):\n",
    "    user_ratings = ratings[ratings['userId'] == user_id]\n",
    "    user_movies = user_ratings.merge(movies, on='movieId')[['title', 'rating']]\n",
    "    return user_movies.head(10)  # Limit to top 10 movies already seen\n",
    "\n",
    "# Test the function with a specific user (e.g., user 1)\n",
    "user_id = 8\n",
    "recommended_movie_ids = recommend_user_based(user_id)\n",
    "\n",
    "# Get movie titles for the recommendations\n",
    "recommended_movie_titles = get_movie_titles(recommended_movie_ids)\n",
    "\n",
    "# Get the movies the user has already seen (limit to top 10)\n",
    "user_movies = get_user_movies(user_id)\n",
    "\n",
    "# Print the results\n",
    "print(f\"Top 10 Movies recommended for User {user_id}:\")\n",
    "for title in recommended_movie_titles:\n",
    "    print(f\"- {title}\")\n",
    "\n",
    "print(f\"\\nTop 10 Movies already seen by User {user_id}:\")\n",
    "for _, row in user_movies.iterrows():\n",
    "    print(f\"- {row['title']} (Rating: {row['rating']})\")"
   ]
  },
  {
   "cell_type": "markdown",
   "metadata": {},
   "source": [
    "# Collaborative filtering - User based performance"
   ]
  },
  {
   "cell_type": "code",
   "execution_count": 24,
   "metadata": {},
   "outputs": [],
   "source": [
    "import numpy as np\n",
    "from sklearn.metrics import mean_squared_error, mean_absolute_error, precision_score, recall_score, f1_score, accuracy_score\n"
   ]
  },
  {
   "cell_type": "code",
   "execution_count": 25,
   "metadata": {},
   "outputs": [],
   "source": [
    "#Define Evaluation Metrics\n",
    "#Modify your recommend_user_based function to return predicted ratings.\n",
    "def recommend_user_based_ratings(user_id, model=model):\n",
    "    user_row = sparse_matrix.getrow(user_id - 1)\n",
    "    distances, indices = model.kneighbors(user_row)\n",
    "\n",
    "    similar_users = indices.flatten()\n",
    "\n",
    "    recommendations = {}\n",
    "    for user in similar_users[1:]:  # Skip the first user (the same user)\n",
    "        similar_user_ratings = sparse_matrix.getrow(user).toarray().flatten()\n",
    "        for i, rating in enumerate(similar_user_ratings):\n",
    "            if rating > 0:\n",
    "                recommendations[i] = rating  # Store predicted rating\n",
    "\n",
    "    return recommendations\n"
   ]
  },
  {
   "cell_type": "code",
   "execution_count": 26,
   "metadata": {},
   "outputs": [
    {
     "name": "stdout",
     "output_type": "stream",
     "text": [
      "RMSE: 1.1263\n",
      "MAE: 0.8209\n",
      "Precision: 0.7812\n",
      "Recall: 0.5682\n",
      "F1 Score: 0.6579\n",
      "Accuracy: 0.6119\n"
     ]
    }
   ],
   "source": [
    "#Get Ground Truth Ratings\n",
    "#Extract actual ratings from dataset.\n",
    "def get_actual_ratings(user_id):\n",
    "    return ratings[ratings['userId'] == user_id].set_index('movieId')['rating'].to_dict()\n",
    "\n",
    "\n",
    "#calculate RMSE, MAE, Precision, Recall, F1-score, and Accuracy.\n",
    "# Get actual and predicted ratings\n",
    "actual_ratings = get_actual_ratings(user_id)\n",
    "predicted_ratings = recommend_user_based_ratings(user_id)\n",
    "\n",
    "# Convert dictionaries to lists (align actual and predicted ratings)\n",
    "common_movies = set(actual_ratings.keys()) & set(predicted_ratings.keys())\n",
    "y_true = [actual_ratings[movie] for movie in common_movies]\n",
    "y_pred = [predicted_ratings[movie] for movie in common_movies]\n",
    "\n",
    "# Compute RMSE and MAE\n",
    "rmse = np.sqrt(mean_squared_error(y_true, y_pred))\n",
    "mae = mean_absolute_error(y_true, y_pred)\n",
    "\n",
    "# Convert ratings to binary for classification metrics\n",
    "threshold = 3.5  # Consider ratings ≥3.5 as positive (liked)\n",
    "y_true_binary = [1 if rating >= threshold else 0 for rating in y_true]\n",
    "y_pred_binary = [1 if rating >= threshold else 0 for rating in y_pred]\n",
    "\n",
    "# Compute Precision, Recall, F1-Score, and Accuracy\n",
    "precision = precision_score(y_true_binary, y_pred_binary, zero_division=1)\n",
    "recall = recall_score(y_true_binary, y_pred_binary, zero_division=1)\n",
    "f1 = f1_score(y_true_binary, y_pred_binary, zero_division=1)\n",
    "accuracy = accuracy_score(y_true_binary, y_pred_binary)\n",
    "\n",
    "# Print Results\n",
    "print(f\"RMSE: {rmse:.4f}\")\n",
    "print(f\"MAE: {mae:.4f}\")\n",
    "print(f\"Precision: {precision:.4f}\")\n",
    "print(f\"Recall: {recall:.4f}\")\n",
    "print(f\"F1 Score: {f1:.4f}\")\n",
    "print(f\"Accuracy: {accuracy:.4f}\")\n"
   ]
  },
  {
   "cell_type": "markdown",
   "metadata": {
    "id": "21zACpeMVH48"
   },
   "source": [
    "# Collaborative Filtering using ALS"
   ]
  },
  {
   "cell_type": "code",
   "execution_count": 27,
   "metadata": {
    "id": "Rno8TiIaVO3x"
   },
   "outputs": [],
   "source": [
    "from implicit.als import AlternatingLeastSquares\n",
    "from scipy.sparse import csr_matrix"
   ]
  },
  {
   "cell_type": "code",
   "execution_count": 28,
   "metadata": {
    "id": "QHvmT0UIYAKk"
   },
   "outputs": [],
   "source": [
    "\n",
    "# Create a sparse user-item matrix directly from the ratings DataFrame\n",
    "# We need to convert the userId and movieId to a format suitable for the sparse matrix\n",
    "user_ids = ratings['userId'].astype('category').cat.codes\n",
    "movie_ids = ratings['movieId'].astype('category').cat.codes"
   ]
  },
  {
   "cell_type": "code",
   "execution_count": 29,
   "metadata": {
    "colab": {
     "base_uri": "https://localhost:8080/",
     "height": 104,
     "referenced_widgets": [
      "f55a27424e434a45b401e25113f975c7",
      "23574842bea1498d8adef8994859a8a5",
      "d93b5eafccb44866a90f9d32537d4a8c",
      "4c0aa4b68e7a48d58493b012617fa343",
      "0aed873760be4f7d857b673f355f995f",
      "b2439348e4d441bda3057cffa3fd5998",
      "467fc439cc7445519a5c74643a8ee7bc",
      "7879f7200d09431589c8d6844611b895",
      "8c098b31f82748b1a419c063281b416a",
      "9de067f42406409890529189a0a4437f",
      "ac61f069b5f3418fab82ae9001960fac"
     ]
    },
    "executionInfo": {
     "elapsed": 366076,
     "status": "ok",
     "timestamp": 1742471552427,
     "user": {
      "displayName": "Madhureema Das",
      "userId": "02243178770954173443"
     },
     "user_tz": -330
    },
    "id": "YsJmAE-GYD8f",
    "outputId": "3e46afe2-79ca-4b35-e671-254d09b48afe"
   },
   "outputs": [
    {
     "name": "stderr",
     "output_type": "stream",
     "text": [
      "C:\\Users\\Madhusmita Panda\\AppData\\Local\\Programs\\Python\\Python312\\Lib\\site-packages\\implicit\\cpu\\als.py:95: RuntimeWarning: OpenBLAS is configured to use 8 threads. It is highly recommended to disable its internal threadpool by setting the environment variable 'OPENBLAS_NUM_THREADS=1' or by calling 'threadpoolctl.threadpool_limits(1, \"blas\")'. Having OpenBLAS use a threadpool can lead to severe performance issues here.\n",
      "  check_blas_config()\n"
     ]
    },
    {
     "data": {
      "application/vnd.jupyter.widget-view+json": {
       "model_id": "9b247913e2e14ac8bf4ac9d717538898",
       "version_major": 2,
       "version_minor": 0
      },
      "text/plain": [
       "  0%|          | 0/20 [00:00<?, ?it/s]"
      ]
     },
     "metadata": {},
     "output_type": "display_data"
    }
   ],
   "source": [
    "# Create a sparse matrix\n",
    "sparse_user_item = csr_matrix((ratings['rating'], (user_ids, movie_ids)))\n",
    "\n",
    "# Initialize the ALS model\n",
    "model = AlternatingLeastSquares(factors=50, regularization=0.1, iterations=20)\n",
    "\n",
    "# Fit the model\n",
    "model.fit(sparse_user_item)"
   ]
  },
  {
   "cell_type": "code",
   "execution_count": 30,
   "metadata": {
    "id": "e6T7MY0gZnz0"
   },
   "outputs": [],
   "source": [
    "# Function to get movie recommendations for a specific user\n",
    "def get_als_recommendations(user_id, num_recommendations=5):\n",
    "    # Convert user_id to the corresponding index in the sparse matrix\n",
    "    user_index = ratings['userId'].astype('category').cat.codes[ratings['userId'] == user_id].values[0]\n",
    "\n",
    "    # Get the user's ratings\n",
    "    user_ratings = sparse_user_item[user_index]\n",
    "\n",
    "    # Get recommendations\n",
    "    recommended = model.recommend(user_index, user_ratings, N=num_recommendations)\n",
    "\n",
    "    # Extract movie indices and scores correctly\n",
    "    recommended_movie_indices = [rec[0] for rec in recommended]  # Movie indices from the tuples\n",
    "    recommended_scores = [rec[1] for rec in recommended]        # Scores from the tuples\n",
    "\n",
    "    # Map from internal movie index to the original movieId\n",
    "    movie_ids_from_model = movies['movieId'].values  # The original movie IDs\n",
    "    category_codes_to_movie_id = dict(zip(movies['movieId'].astype('category').cat.codes, movie_ids_from_model))\n",
    "\n",
    "    # Now use the correct mapping from internal indices to movie IDs\n",
    "    recommendations_df = pd.DataFrame({\n",
    "        'movieId': [category_codes_to_movie_id[int(movie_id)] for movie_id in recommended_movie_indices],  # Make sure to cast to int\n",
    "        'score': recommended_scores\n",
    "    })\n",
    "\n",
    "    # Merge with the movies DataFrame to get titles\n",
    "    recommendations = pd.merge(recommendations_df, movies, on='movieId')\n",
    "    return recommendations[['movieId', 'title', 'score']]\n"
   ]
  },
  {
   "cell_type": "code",
   "execution_count": 31,
   "metadata": {
    "colab": {
     "base_uri": "https://localhost:8080/"
    },
    "executionInfo": {
     "elapsed": 590,
     "status": "ok",
     "timestamp": 1742472363831,
     "user": {
      "displayName": "Madhureema Das",
      "userId": "02243178770954173443"
     },
     "user_tz": -330
    },
    "id": "ZuKzYh5JVLng",
    "outputId": "c401e318-40b3-4624-ac38-c4fa1c27a220"
   },
   "outputs": [
    {
     "name": "stdout",
     "output_type": "stream",
     "text": [
      "Recommendations for user ID 23: \n",
      "   movieId                    title        score\n",
      "0     1682  Truman Show, The (1998)  1713.000000\n",
      "1        1         Toy Story (1995)     0.955707\n"
     ]
    }
   ],
   "source": [
    "# Example usage\n",
    "if __name__ == \"__main__\":\n",
    "    user_id = 23\n",
    "    recommendations = get_als_recommendations(user_id)\n",
    "    print(\"Recommendations for user ID {}: \\n{}\".format(user_id, recommendations))"
   ]
  },
  {
   "cell_type": "markdown",
   "metadata": {},
   "source": [
    "# Collaborative Filtering using ALS performance"
   ]
  },
  {
   "cell_type": "code",
   "execution_count": 32,
   "metadata": {},
   "outputs": [],
   "source": [
    "#Modify the get_als_recommendations function to return predicted ratings.\n",
    "def get_als_predicted_ratings(user_id):\n",
    "    user_index = ratings['userId'].astype('category').cat.codes[ratings['userId'] == user_id].values[0]\n",
    "    \n",
    "    # Predict scores for all movies\n",
    "    recommended = model.recommend(user_index, sparse_user_item[user_index], N=len(movies))\n",
    "\n",
    "    # Extract movie indices and predicted ratings\n",
    "    recommended_ratings = {rec[0]: rec[1] for rec in recommended}\n",
    "\n",
    "    # Map internal movie index to original movieId\n",
    "    movie_ids_from_model = movies['movieId'].values  \n",
    "    category_codes_to_movie_id = dict(zip(movies['movieId'].astype('category').cat.codes, movie_ids_from_model))\n",
    "\n",
    "    # Convert to a dictionary with movieId as key\n",
    "    predicted_ratings = {category_codes_to_movie_id[int(movie_id)]: rating for movie_id, rating in recommended_ratings.items()}\n",
    "    \n",
    "    return predicted_ratings\n"
   ]
  },
  {
   "cell_type": "code",
   "execution_count": 33,
   "metadata": {},
   "outputs": [],
   "source": [
    "#Get Ground Truth Ratings\n",
    "#Extract actual ratings from the dataset.\n",
    "def get_actual_ratings(user_id):\n",
    "    return ratings[ratings['userId'] == user_id].set_index('movieId')['rating'].to_dict()\n"
   ]
  },
  {
   "cell_type": "code",
   "execution_count": 34,
   "metadata": {},
   "outputs": [
    {
     "name": "stdout",
     "output_type": "stream",
     "text": [
      "RMSE: 3.0443\n",
      "MAE: 3.0443\n",
      "Precision: 1.0000\n",
      "Recall: 0.0000\n",
      "F1 Score: 0.0000\n",
      "Accuracy: 0.0000\n"
     ]
    }
   ],
   "source": [
    "#Compute Evaluation Metrics\n",
    "#calculate RMSE, MAE, Precision, Recall, F1-score, and Accuracy.\n",
    "# Get actual and predicted ratings\n",
    "actual_ratings = get_actual_ratings(user_id)\n",
    "predicted_ratings = get_als_predicted_ratings(user_id)\n",
    "\n",
    "# Convert dictionaries to lists (align actual and predicted ratings)\n",
    "common_movies = set(actual_ratings.keys()) & set(predicted_ratings.keys())\n",
    "y_true = [actual_ratings[movie] for movie in common_movies]\n",
    "y_pred = [predicted_ratings[movie] for movie in common_movies]\n",
    "\n",
    "# Compute RMSE and MAE\n",
    "rmse = np.sqrt(mean_squared_error(y_true, y_pred))\n",
    "mae = mean_absolute_error(y_true, y_pred)\n",
    "\n",
    "# Convert ratings to binary for classification metrics\n",
    "threshold = 3.5  # Consider ratings ≥3.5 as positive (liked)\n",
    "y_true_binary = [1 if rating >= threshold else 0 for rating in y_true]\n",
    "y_pred_binary = [1 if rating >= threshold else 0 for rating in y_pred]\n",
    "\n",
    "# Compute Precision, Recall, F1-Score, and Accuracy\n",
    "precision = precision_score(y_true_binary, y_pred_binary, zero_division=1)\n",
    "recall = recall_score(y_true_binary, y_pred_binary, zero_division=1)\n",
    "f1 = f1_score(y_true_binary, y_pred_binary, zero_division=1)\n",
    "accuracy = accuracy_score(y_true_binary, y_pred_binary)\n",
    "\n",
    "# Print Results\n",
    "print(f\"RMSE: {rmse:.4f}\")\n",
    "print(f\"MAE: {mae:.4f}\")\n",
    "print(f\"Precision: {precision:.4f}\")\n",
    "print(f\"Recall: {recall:.4f}\")\n",
    "print(f\"F1 Score: {f1:.4f}\")\n",
    "print(f\"Accuracy: {accuracy:.4f}\")\n"
   ]
  },
  {
   "cell_type": "markdown",
   "metadata": {},
   "source": [
    "# Hybrid Recommendation "
   ]
  },
  {
   "cell_type": "code",
   "execution_count": 35,
   "metadata": {},
   "outputs": [
    {
     "name": "stdout",
     "output_type": "stream",
     "text": [
      "\n",
      "Top 10 Hybrid Recommendations for User 8 based on the movie 'Home Alone':\n",
      "- Home Alone (1990)\n",
      "- Dracula: Dead and Loving It (1995)\n",
      "- Sabrina (1995)\n",
      "- Jumanji (1995)\n",
      "- Balto (1995)\n",
      "- Sudden Death (1995)\n",
      "- American President, The (1995)\n",
      "- Grumpier Old Men (1995)\n",
      "- GoldenEye (1995)\n",
      "- Toy Story (1995)\n"
     ]
    }
   ],
   "source": [
    "def hybrid_recommendations(user_id, movie_name, top_n=10):\n",
    "    # Get content-based recommendations\n",
    "    try:\n",
    "        content_recs = content_based_recommendations(movie_name, top_n)\n",
    "        if not content_recs:\n",
    "            print(f\"No content-based recommendations found for the movie '{movie_name}'.\")\n",
    "        else:\n",
    "            # Format the content-based recommendations as per the new example code\n",
    "            content_recs_titles = [rec.tolist()[1] for rec in content_recs]  # Get the movie title\n",
    "            print(f\"Content-Based Recommendations: {content_recs_titles}\")\n",
    "    except Exception as e:\n",
    "        #print(f\"Error in content-based recommendations: {e}\")\n",
    "        content_recs_titles = []\n",
    "\n",
    "    # Get user-based recommendations\n",
    "    try:\n",
    "        user_based_recs = recommend_user_based(user_id)\n",
    "        if not user_based_recs:\n",
    "            print(f\"No user-based recommendations found for user {user_id}.\")\n",
    "    except Exception as e:\n",
    "        print(f\"Error in user-based recommendations: {e}\")\n",
    "        user_based_recs = []\n",
    "\n",
    "    # Get ALS-based recommendations\n",
    "    try:\n",
    "        als_recs = get_als_recommendations(user_id, num_recommendations=top_n)\n",
    "        if als_recs.empty:\n",
    "            print(f\"No ALS-based recommendations found for user {user_id}.\")\n",
    "    except Exception as e:\n",
    "        print(f\"Error in ALS-based recommendations: {e}\")\n",
    "        als_recs = pd.DataFrame()\n",
    "\n",
    "    # Extract titles from the user-based recommendations if available\n",
    "    user_based_recs_titles = get_movie_titles(user_based_recs) if user_based_recs else []\n",
    "\n",
    "    # Extract titles from ALS-based recommendations if available\n",
    "    als_recs_titles = als_recs['title'].tolist() if not als_recs.empty else []\n",
    "\n",
    "    # Combine all recommendations\n",
    "    all_recommendations = content_recs_titles + user_based_recs_titles + als_recs_titles\n",
    "\n",
    "    # Remove duplicates by converting to a set and back to a list\n",
    "    unique_recommendations = list(set(all_recommendations))\n",
    "\n",
    "    # Limit the recommendations to top_n\n",
    "    return unique_recommendations[:top_n]\n",
    "\n",
    "# Test the hybrid recommendation function\n",
    "user_id = 8\n",
    "movie_name = \"Home Alone\"\n",
    "top_n = 10\n",
    "hybrid_recs = hybrid_recommendations(user_id, movie_name, top_n)\n",
    "\n",
    "print(f\"\\nTop {top_n} Hybrid Recommendations for User {user_id} based on the movie '{movie_name}':\")\n",
    "for rec in hybrid_recs:\n",
    "    print(f\"- {rec}\")\n"
   ]
  },
  {
   "cell_type": "code",
   "execution_count": null,
   "metadata": {},
   "outputs": [],
   "source": []
  }
 ],
 "metadata": {
  "colab": {
   "authorship_tag": "ABX9TyNRcdiJSSE4mPI7XjmuBmIO",
   "mount_file_id": "1xzsSLp0xHjUgHCu0SFCAcMDZHri6vmf9",
   "provenance": [],
   "toc_visible": true
  },
  "kernelspec": {
   "display_name": "Python 3 (ipykernel)",
   "language": "python",
   "name": "python3"
  },
  "language_info": {
   "codemirror_mode": {
    "name": "ipython",
    "version": 3
   },
   "file_extension": ".py",
   "mimetype": "text/x-python",
   "name": "python",
   "nbconvert_exporter": "python",
   "pygments_lexer": "ipython3",
   "version": "3.12.3"
  },
  "widgets": {
   "application/vnd.jupyter.widget-state+json": {
    "0aed873760be4f7d857b673f355f995f": {
     "model_module": "@jupyter-widgets/base",
     "model_module_version": "1.2.0",
     "model_name": "LayoutModel",
     "state": {
      "_model_module": "@jupyter-widgets/base",
      "_model_module_version": "1.2.0",
      "_model_name": "LayoutModel",
      "_view_count": null,
      "_view_module": "@jupyter-widgets/base",
      "_view_module_version": "1.2.0",
      "_view_name": "LayoutView",
      "align_content": null,
      "align_items": null,
      "align_self": null,
      "border": null,
      "bottom": null,
      "display": null,
      "flex": null,
      "flex_flow": null,
      "grid_area": null,
      "grid_auto_columns": null,
      "grid_auto_flow": null,
      "grid_auto_rows": null,
      "grid_column": null,
      "grid_gap": null,
      "grid_row": null,
      "grid_template_areas": null,
      "grid_template_columns": null,
      "grid_template_rows": null,
      "height": null,
      "justify_content": null,
      "justify_items": null,
      "left": null,
      "margin": null,
      "max_height": null,
      "max_width": null,
      "min_height": null,
      "min_width": null,
      "object_fit": null,
      "object_position": null,
      "order": null,
      "overflow": null,
      "overflow_x": null,
      "overflow_y": null,
      "padding": null,
      "right": null,
      "top": null,
      "visibility": null,
      "width": null
     }
    },
    "23574842bea1498d8adef8994859a8a5": {
     "model_module": "@jupyter-widgets/controls",
     "model_module_version": "1.5.0",
     "model_name": "HTMLModel",
     "state": {
      "_dom_classes": [],
      "_model_module": "@jupyter-widgets/controls",
      "_model_module_version": "1.5.0",
      "_model_name": "HTMLModel",
      "_view_count": null,
      "_view_module": "@jupyter-widgets/controls",
      "_view_module_version": "1.5.0",
      "_view_name": "HTMLView",
      "description": "",
      "description_tooltip": null,
      "layout": "IPY_MODEL_b2439348e4d441bda3057cffa3fd5998",
      "placeholder": "​",
      "style": "IPY_MODEL_467fc439cc7445519a5c74643a8ee7bc",
      "value": "100%"
     }
    },
    "467fc439cc7445519a5c74643a8ee7bc": {
     "model_module": "@jupyter-widgets/controls",
     "model_module_version": "1.5.0",
     "model_name": "DescriptionStyleModel",
     "state": {
      "_model_module": "@jupyter-widgets/controls",
      "_model_module_version": "1.5.0",
      "_model_name": "DescriptionStyleModel",
      "_view_count": null,
      "_view_module": "@jupyter-widgets/base",
      "_view_module_version": "1.2.0",
      "_view_name": "StyleView",
      "description_width": ""
     }
    },
    "4c0aa4b68e7a48d58493b012617fa343": {
     "model_module": "@jupyter-widgets/controls",
     "model_module_version": "1.5.0",
     "model_name": "HTMLModel",
     "state": {
      "_dom_classes": [],
      "_model_module": "@jupyter-widgets/controls",
      "_model_module_version": "1.5.0",
      "_model_name": "HTMLModel",
      "_view_count": null,
      "_view_module": "@jupyter-widgets/controls",
      "_view_module_version": "1.5.0",
      "_view_name": "HTMLView",
      "description": "",
      "description_tooltip": null,
      "layout": "IPY_MODEL_9de067f42406409890529189a0a4437f",
      "placeholder": "​",
      "style": "IPY_MODEL_ac61f069b5f3418fab82ae9001960fac",
      "value": " 20/20 [06:03&lt;00:00, 17.14s/it]"
     }
    },
    "7879f7200d09431589c8d6844611b895": {
     "model_module": "@jupyter-widgets/base",
     "model_module_version": "1.2.0",
     "model_name": "LayoutModel",
     "state": {
      "_model_module": "@jupyter-widgets/base",
      "_model_module_version": "1.2.0",
      "_model_name": "LayoutModel",
      "_view_count": null,
      "_view_module": "@jupyter-widgets/base",
      "_view_module_version": "1.2.0",
      "_view_name": "LayoutView",
      "align_content": null,
      "align_items": null,
      "align_self": null,
      "border": null,
      "bottom": null,
      "display": null,
      "flex": null,
      "flex_flow": null,
      "grid_area": null,
      "grid_auto_columns": null,
      "grid_auto_flow": null,
      "grid_auto_rows": null,
      "grid_column": null,
      "grid_gap": null,
      "grid_row": null,
      "grid_template_areas": null,
      "grid_template_columns": null,
      "grid_template_rows": null,
      "height": null,
      "justify_content": null,
      "justify_items": null,
      "left": null,
      "margin": null,
      "max_height": null,
      "max_width": null,
      "min_height": null,
      "min_width": null,
      "object_fit": null,
      "object_position": null,
      "order": null,
      "overflow": null,
      "overflow_x": null,
      "overflow_y": null,
      "padding": null,
      "right": null,
      "top": null,
      "visibility": null,
      "width": null
     }
    },
    "8c098b31f82748b1a419c063281b416a": {
     "model_module": "@jupyter-widgets/controls",
     "model_module_version": "1.5.0",
     "model_name": "ProgressStyleModel",
     "state": {
      "_model_module": "@jupyter-widgets/controls",
      "_model_module_version": "1.5.0",
      "_model_name": "ProgressStyleModel",
      "_view_count": null,
      "_view_module": "@jupyter-widgets/base",
      "_view_module_version": "1.2.0",
      "_view_name": "StyleView",
      "bar_color": null,
      "description_width": ""
     }
    },
    "9de067f42406409890529189a0a4437f": {
     "model_module": "@jupyter-widgets/base",
     "model_module_version": "1.2.0",
     "model_name": "LayoutModel",
     "state": {
      "_model_module": "@jupyter-widgets/base",
      "_model_module_version": "1.2.0",
      "_model_name": "LayoutModel",
      "_view_count": null,
      "_view_module": "@jupyter-widgets/base",
      "_view_module_version": "1.2.0",
      "_view_name": "LayoutView",
      "align_content": null,
      "align_items": null,
      "align_self": null,
      "border": null,
      "bottom": null,
      "display": null,
      "flex": null,
      "flex_flow": null,
      "grid_area": null,
      "grid_auto_columns": null,
      "grid_auto_flow": null,
      "grid_auto_rows": null,
      "grid_column": null,
      "grid_gap": null,
      "grid_row": null,
      "grid_template_areas": null,
      "grid_template_columns": null,
      "grid_template_rows": null,
      "height": null,
      "justify_content": null,
      "justify_items": null,
      "left": null,
      "margin": null,
      "max_height": null,
      "max_width": null,
      "min_height": null,
      "min_width": null,
      "object_fit": null,
      "object_position": null,
      "order": null,
      "overflow": null,
      "overflow_x": null,
      "overflow_y": null,
      "padding": null,
      "right": null,
      "top": null,
      "visibility": null,
      "width": null
     }
    },
    "ac61f069b5f3418fab82ae9001960fac": {
     "model_module": "@jupyter-widgets/controls",
     "model_module_version": "1.5.0",
     "model_name": "DescriptionStyleModel",
     "state": {
      "_model_module": "@jupyter-widgets/controls",
      "_model_module_version": "1.5.0",
      "_model_name": "DescriptionStyleModel",
      "_view_count": null,
      "_view_module": "@jupyter-widgets/base",
      "_view_module_version": "1.2.0",
      "_view_name": "StyleView",
      "description_width": ""
     }
    },
    "b2439348e4d441bda3057cffa3fd5998": {
     "model_module": "@jupyter-widgets/base",
     "model_module_version": "1.2.0",
     "model_name": "LayoutModel",
     "state": {
      "_model_module": "@jupyter-widgets/base",
      "_model_module_version": "1.2.0",
      "_model_name": "LayoutModel",
      "_view_count": null,
      "_view_module": "@jupyter-widgets/base",
      "_view_module_version": "1.2.0",
      "_view_name": "LayoutView",
      "align_content": null,
      "align_items": null,
      "align_self": null,
      "border": null,
      "bottom": null,
      "display": null,
      "flex": null,
      "flex_flow": null,
      "grid_area": null,
      "grid_auto_columns": null,
      "grid_auto_flow": null,
      "grid_auto_rows": null,
      "grid_column": null,
      "grid_gap": null,
      "grid_row": null,
      "grid_template_areas": null,
      "grid_template_columns": null,
      "grid_template_rows": null,
      "height": null,
      "justify_content": null,
      "justify_items": null,
      "left": null,
      "margin": null,
      "max_height": null,
      "max_width": null,
      "min_height": null,
      "min_width": null,
      "object_fit": null,
      "object_position": null,
      "order": null,
      "overflow": null,
      "overflow_x": null,
      "overflow_y": null,
      "padding": null,
      "right": null,
      "top": null,
      "visibility": null,
      "width": null
     }
    },
    "d93b5eafccb44866a90f9d32537d4a8c": {
     "model_module": "@jupyter-widgets/controls",
     "model_module_version": "1.5.0",
     "model_name": "FloatProgressModel",
     "state": {
      "_dom_classes": [],
      "_model_module": "@jupyter-widgets/controls",
      "_model_module_version": "1.5.0",
      "_model_name": "FloatProgressModel",
      "_view_count": null,
      "_view_module": "@jupyter-widgets/controls",
      "_view_module_version": "1.5.0",
      "_view_name": "ProgressView",
      "bar_style": "success",
      "description": "",
      "description_tooltip": null,
      "layout": "IPY_MODEL_7879f7200d09431589c8d6844611b895",
      "max": 20,
      "min": 0,
      "orientation": "horizontal",
      "style": "IPY_MODEL_8c098b31f82748b1a419c063281b416a",
      "value": 20
     }
    },
    "f55a27424e434a45b401e25113f975c7": {
     "model_module": "@jupyter-widgets/controls",
     "model_module_version": "1.5.0",
     "model_name": "HBoxModel",
     "state": {
      "_dom_classes": [],
      "_model_module": "@jupyter-widgets/controls",
      "_model_module_version": "1.5.0",
      "_model_name": "HBoxModel",
      "_view_count": null,
      "_view_module": "@jupyter-widgets/controls",
      "_view_module_version": "1.5.0",
      "_view_name": "HBoxView",
      "box_style": "",
      "children": [
       "IPY_MODEL_23574842bea1498d8adef8994859a8a5",
       "IPY_MODEL_d93b5eafccb44866a90f9d32537d4a8c",
       "IPY_MODEL_4c0aa4b68e7a48d58493b012617fa343"
      ],
      "layout": "IPY_MODEL_0aed873760be4f7d857b673f355f995f"
     }
    }
   }
  }
 },
 "nbformat": 4,
 "nbformat_minor": 4
}
